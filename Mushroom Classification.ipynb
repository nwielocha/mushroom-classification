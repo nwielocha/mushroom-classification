{
 "cells": [
  {
   "cell_type": "markdown",
   "id": "baf33717-4ce6-4ef4-a482-abaf07ea5aae",
   "metadata": {},
   "source": [
    "# Klasyfikacja Grzybów\n",
    "W ramach *Projektu 1* wybrano temat klasyfikacji grzybów na trujące / jadalne na podstawie bazy danych **National Audubon Society Field Guides**, które zostały udostępnione na stronie https://archive.ics.uci.edu/dataset/73/mushroom\n",
    "\n",
    "## Dodatkowe informacje\n",
    "Ten zestaw danych obejmuje opisy hipotetycznych próbek odpowiadających 23 gatunkom grzybów z rodziny Agaricus i Lepiota. Każdy gatunek jest oznaczony jako zdecydowanie jadalny, zdecydowanie trujący lub o nieznanej jadalności i niezalecany do spożycia. Ta ostatnia kategoria została połączona z trującą. Przewodnik jednoznacznie stwierdza, że nie ma prostych zasad określających jadalność grzyba; nie ma reguły takiej jak \"trzy listki, trzymaj się z daleka\" dla trującego dębu i bluszczu.\n",
    "\n",
    "## Trudność problemu\n",
    "*Czy baza danych jest skomplikowana i ma błędy lub braki danych?*\n",
    "\n",
    "Baza danych składa się z ponad 8000 rekordów i 22 atrybutów, w których znajdziemy atrybuty typu kategorycznego oraz binarnego. Ponadto baza danych zawiera braki w danych.\n",
    "\n",
    "*Czy jest ona dość słabo przebadana czy już wydaje się „oklepana”?*\n",
    "\n",
    "Baza danych pochodzi z 1987 roku, jednak pod względem wyświetleń na stronie, z której pobierałem dane, nie znajduje się w pierwszej dziesiątce (biorąc pod uwagę tylko bazy danych, które spełniały wcześniejsze wymogi).\n",
    "\n",
    "## Dane\n",
    "Przejdźmy do wczytania danych. Następnie spójrzmy na pierwych kilka rekordów i podstawowe statystyki:"
   ]
  },
  {
   "cell_type": "code",
   "execution_count": 12,
   "id": "cf41977f",
   "metadata": {},
   "outputs": [],
   "source": [
    "import pandas as pd\n",
    "\n",
    "df = pd.read_csv(\"mushroom/agaricus-lepiota-data.csv\")"
   ]
  },
  {
   "cell_type": "code",
   "execution_count": 13,
   "id": "46ec5bdf",
   "metadata": {},
   "outputs": [
    {
     "name": "stdout",
     "output_type": "stream",
     "text": [
      "  poisonous cap-shape cap-surface cap-color bruises odor gill-attachment  \\\n",
      "0         p         x           s         n       t    p               f   \n",
      "1         e         x           s         y       t    a               f   \n",
      "2         e         b           s         w       t    l               f   \n",
      "3         p         x           y         w       t    p               f   \n",
      "4         e         x           s         g       f    n               f   \n",
      "\n",
      "  gill-spacing gill-size gill-color  ... stalk-surface-below-ring  \\\n",
      "0            c         n          k  ...                        s   \n",
      "1            c         b          k  ...                        s   \n",
      "2            c         b          n  ...                        s   \n",
      "3            c         n          n  ...                        s   \n",
      "4            w         b          k  ...                        s   \n",
      "\n",
      "  stalk-color-above-ring stalk-color-below-ring veil-type veil-color  \\\n",
      "0                      w                      w         p          w   \n",
      "1                      w                      w         p          w   \n",
      "2                      w                      w         p          w   \n",
      "3                      w                      w         p          w   \n",
      "4                      w                      w         p          w   \n",
      "\n",
      "  ring-number ring-type spore-print-color population habitat  \n",
      "0           o         p                 k          s       u  \n",
      "1           o         p                 n          n       g  \n",
      "2           o         p                 n          n       m  \n",
      "3           o         p                 k          s       u  \n",
      "4           o         e                 n          a       g  \n",
      "\n",
      "[5 rows x 23 columns]\n"
     ]
    }
   ],
   "source": [
    "print(df.head())"
   ]
  },
  {
   "cell_type": "code",
   "execution_count": 14,
   "id": "15bff0a0",
   "metadata": {},
   "outputs": [
    {
     "name": "stdout",
     "output_type": "stream",
     "text": [
      "       poisonous cap-shape cap-surface cap-color bruises  odor  \\\n",
      "count       8124      8124        8124      8124    8124  8124   \n",
      "unique         2         6           4        10       2     9   \n",
      "top            e         x           y         n       f     n   \n",
      "freq        4208      3656        3244      2284    4748  3528   \n",
      "\n",
      "       gill-attachment gill-spacing gill-size gill-color  ...  \\\n",
      "count             8124         8124      8124       8124  ...   \n",
      "unique               2            2         2         12  ...   \n",
      "top                  f            c         b          b  ...   \n",
      "freq              7914         6812      5612       1728  ...   \n",
      "\n",
      "       stalk-surface-below-ring stalk-color-above-ring stalk-color-below-ring  \\\n",
      "count                      8124                   8124                   8124   \n",
      "unique                        4                      9                      9   \n",
      "top                           s                      w                      w   \n",
      "freq                       4936                   4464                   4384   \n",
      "\n",
      "       veil-type veil-color ring-number ring-type spore-print-color  \\\n",
      "count       8124       8124        8124      8124              8124   \n",
      "unique         1          4           3         5                 9   \n",
      "top            p          w           o         p                 w   \n",
      "freq        8124       7924        7488      3968              2388   \n",
      "\n",
      "       population habitat  \n",
      "count        8124    8124  \n",
      "unique          6       7  \n",
      "top             v       d  \n",
      "freq         4040    3148  \n",
      "\n",
      "[4 rows x 23 columns]\n"
     ]
    }
   ],
   "source": [
    "print(df.describe())"
   ]
  },
  {
   "cell_type": "markdown",
   "id": "41e570f6",
   "metadata": {},
   "source": [
    "## Przygotowanie do eksperymentów 1\n",
    "Brakujące wartości w bazie danych grzybów są oznaczone jako '?'. Tylko jeden atrybut (stalk-root) zawiera braki w danych. Przygotujmy listę brakujących wartości. Następnie wczytajmy ponownie bazę danych z dodatkowym parametrem, tak aby Pandas je rozpoznawał."
   ]
  },
  {
   "cell_type": "code",
   "execution_count": 16,
   "id": "6ba151b3",
   "metadata": {},
   "outputs": [],
   "source": [
    "missing_values = ['?']\n",
    "df = pd.read_csv(\"mushroom/agaricus-lepiota-data.csv\", na_values=missing_values)"
   ]
  },
  {
   "cell_type": "markdown",
   "id": "9f6817a7",
   "metadata": {},
   "source": [
    "Możemy sprawdzić rozkład brakujących wartości w każdej z kolumn:"
   ]
  },
  {
   "cell_type": "code",
   "execution_count": 17,
   "id": "78324f10",
   "metadata": {},
   "outputs": [
    {
     "name": "stdout",
     "output_type": "stream",
     "text": [
      "poisonous                   0.000000\n",
      "cap-shape                   0.000000\n",
      "cap-surface                 0.000000\n",
      "cap-color                   0.000000\n",
      "bruises                     0.000000\n",
      "odor                        0.000000\n",
      "gill-attachment             0.000000\n",
      "gill-spacing                0.000000\n",
      "gill-size                   0.000000\n",
      "gill-color                  0.000000\n",
      "stalk-shape                 0.000000\n",
      "stalk-root                  0.305268\n",
      "stalk-surface-above-ring    0.000000\n",
      "stalk-surface-below-ring    0.000000\n",
      "stalk-color-above-ring      0.000000\n",
      "stalk-color-below-ring      0.000000\n",
      "veil-type                   0.000000\n",
      "veil-color                  0.000000\n",
      "ring-number                 0.000000\n",
      "ring-type                   0.000000\n",
      "spore-print-color           0.000000\n",
      "population                  0.000000\n",
      "habitat                     0.000000\n",
      "dtype: float64\n"
     ]
    }
   ],
   "source": [
    "print(df.isnull().mean())"
   ]
  },
  {
   "cell_type": "markdown",
   "id": "ec6050aa",
   "metadata": {},
   "source": [
    "Jak widać brakuje około 30% wartości w kolumnie \"stalk-root\". Sprawdźmy dokładną ilość tych braków:"
   ]
  },
  {
   "cell_type": "code",
   "execution_count": 18,
   "id": "12caa6d1",
   "metadata": {},
   "outputs": [
    {
     "name": "stdout",
     "output_type": "stream",
     "text": [
      "poisonous                      0\n",
      "cap-shape                      0\n",
      "cap-surface                    0\n",
      "cap-color                      0\n",
      "bruises                        0\n",
      "odor                           0\n",
      "gill-attachment                0\n",
      "gill-spacing                   0\n",
      "gill-size                      0\n",
      "gill-color                     0\n",
      "stalk-shape                    0\n",
      "stalk-root                  2480\n",
      "stalk-surface-above-ring       0\n",
      "stalk-surface-below-ring       0\n",
      "stalk-color-above-ring         0\n",
      "stalk-color-below-ring         0\n",
      "veil-type                      0\n",
      "veil-color                     0\n",
      "ring-number                    0\n",
      "ring-type                      0\n",
      "spore-print-color              0\n",
      "population                     0\n",
      "habitat                        0\n",
      "dtype: int64\n"
     ]
    }
   ],
   "source": [
    "print(df.isnull().sum())"
   ]
  },
  {
   "cell_type": "code",
   "execution_count": null,
   "id": "d2ab6a1e",
   "metadata": {},
   "outputs": [],
   "source": []
  }
 ],
 "metadata": {
  "kernelspec": {
   "display_name": "Python 3 (ipykernel)",
   "language": "python",
   "name": "python3"
  },
  "language_info": {
   "codemirror_mode": {
    "name": "ipython",
    "version": 3
   },
   "file_extension": ".py",
   "mimetype": "text/x-python",
   "name": "python",
   "nbconvert_exporter": "python",
   "pygments_lexer": "ipython3",
   "version": "3.11.5"
  }
 },
 "nbformat": 4,
 "nbformat_minor": 5
}
