


import pandas as pd

df = pd.read_csv("mushroom/agaricus-lepiota-data.csv")


print(df.describe())





print(df.head())





missing_values = ['?']
df = pd.read_csv("mushroom/agaricus-lepiota-data.csv", na_values=missing_values)


print(df.isnull().mean())





print(df.isnull().sum())





df = df.drop(str(df.columns[11]), axis=1)
df2 = pd.get_dummies(df)
print(df2)

print("\nLiczba rekordów: ", df2.shape[0])
print("\nLiczba atrybutów: ", df2.shape[1])

print("Pozostałe brakujące wartości wśród artybutów: ", df2.isnull().sum().sum())





from sklearn.decomposition import PCA
from sklearn.model_selection import train_test_split

# Zdefiniuj trujące jako 1 i jadalne jako 0 dla targetu
X = df2.iloc[:,2:]
y = df2.iloc[:,1]

# Podziel dane na zbiory treningowe i testowe
X_train, X_test, y_train, y_test = train_test_split(X, y, random_state=42)

# Zredukuj do 2 głównych komponentów
pca = PCA(n_components=2).fit(X_train)

X_train = pca.transform(X_train)
X_test = pca.transform(X_test)





import matplotlib.pyplot as plt

plt.cla()
plt.clf()

plt.figure(dpi=120)
plt.scatter(X_train[y_train.values==0, 0], X_train[y_train.values==0, 1], label="Jadalne", alpha=0.5, s=2)
plt.scatter(X_train[y_train.values==1, 0], X_train[y_train.values==1, 1], label="Trujące", alpha=0.5, s=2)
plt.title("Zbiór Grzybów\nPierwsze Dwa Główne Komponenty")
plt.legend(frameon=True)
plt.xlabel("PC 1")
plt.ylabel("PC 2")
plt.gca().set_aspect('equal')





from sklearn.tree import DecisionTreeClassifier
model = DecisionTreeClassifier().fit(X_train, y_train)
print("\nDokładność testu: ", round(model.score(X_test, y_test), 5))






